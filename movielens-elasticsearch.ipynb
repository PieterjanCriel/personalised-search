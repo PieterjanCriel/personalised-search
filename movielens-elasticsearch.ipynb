{
 "cells": [
  {
   "cell_type": "code",
   "execution_count": null,
   "metadata": {},
   "outputs": [],
   "source": [
    "import findspark\n",
    "findspark.init()\n",
    "\n",
    "from pyspark.sql import SparkSession\n",
    "from pyspark.ml.evaluation import RegressionEvaluator\n",
    "from pyspark.ml.recommendation import ALS\n",
    "from pyspark.sql import Row\n",
    "from pyspark.sql.functions import udf, log\n",
    "from pyspark.sql.types import StringType\n",
    "from pyspark import SparkConf, SparkContext, sql\n",
    "\n",
    "import pandas as pd\n",
    "from sqlalchemy import create_engine\n",
    "\n",
    "import struct\n",
    "import binascii\n"
   ]
  },
  {
   "cell_type": "code",
   "execution_count": null,
   "metadata": {},
   "outputs": [],
   "source": [
    "spark = SparkSession.builder.appName('ops').getOrCreate()"
   ]
  },
  {
   "cell_type": "code",
   "execution_count": null,
   "metadata": {},
   "outputs": [],
   "source": [
    "!curl http://files.grouplens.org/datasets/movielens/ml-25m.zip --output ml-25m.zip"
   ]
  },
  {
   "cell_type": "code",
   "execution_count": null,
   "metadata": {},
   "outputs": [],
   "source": [
    "!unzip -o ml-25m.zip "
   ]
  },
  {
   "cell_type": "code",
   "execution_count": null,
   "metadata": {},
   "outputs": [],
   "source": [
    "movies = pd.read_csv('ml-25m/movies.csv',',', engine='python')"
   ]
  },
  {
   "cell_type": "code",
   "execution_count": null,
   "metadata": {},
   "outputs": [],
   "source": [
    "movies['year'] = movies['title'].str.extract('\\(([0-9]{4})\\)', expand=False).str.strip()"
   ]
  },
  {
   "cell_type": "code",
   "execution_count": null,
   "metadata": {},
   "outputs": [],
   "source": [
    "ratings = spark.read.options(inferSchema=True, header=True) \\\n",
    "     .csv('ml-25m/ratings.csv')"
   ]
  },
  {
   "cell_type": "code",
   "execution_count": null,
   "metadata": {},
   "outputs": [],
   "source": [
    "(training, test) = ratings.randomSplit([0.8, 0.2])"
   ]
  },
  {
   "cell_type": "code",
   "execution_count": null,
   "metadata": {},
   "outputs": [],
   "source": [
    "als = ALS(maxIter=10, regParam=0.05, rank=48, userCol=\"userId\", itemCol=\"movieId\", ratingCol=\"rating\",\n",
    "          coldStartStrategy=\"drop\")\n",
    "\n",
    "model = als.fit(training)"
   ]
  },
  {
   "cell_type": "code",
   "execution_count": null,
   "metadata": {},
   "outputs": [],
   "source": [
    "predictions = model.transform(test)\n",
    "evaluator = RegressionEvaluator(metricName=\"rmse\", labelCol=\"rating\",\n",
    "                                predictionCol=\"prediction\")\n",
    "rmse = evaluator.evaluate(predictions)\n",
    "print(\"Root-mean-square error = \" + str(rmse))"
   ]
  },
  {
   "cell_type": "code",
   "execution_count": null,
   "metadata": {},
   "outputs": [],
   "source": [
    "itemfactors = spark.createDataFrame(model.itemFactors.rdd)"
   ]
  },
  {
   "cell_type": "code",
   "execution_count": null,
   "metadata": {},
   "outputs": [],
   "source": [
    "userfactors = spark.createDataFrame(model.userFactors.rdd)"
   ]
  },
  {
   "cell_type": "code",
   "execution_count": null,
   "metadata": {},
   "outputs": [],
   "source": [
    "items_frame = itemfactors_with_hex.select('id','features').toPandas().rename(columns={\"id\": \"movie_id\", \"features\": \"features\"})\n",
    "users_frame = userfactors_with_hex.select('id','features').toPandas().rename(columns={\"id\": \"user_id\", \"features\": \"features\"})"
   ]
  },
  {
   "cell_type": "code",
   "execution_count": null,
   "metadata": {},
   "outputs": [],
   "source": [
    "db_users = users.merge(users_frame, left_on='UserID', right_on='user_id').drop(columns=['user_id'])\n",
    "db_users.rename(\n",
    "    columns={'UserID':'id','Gender':'gender','Age':'age','Occupation':'occupation','Zip-code':'zip_code','features':'features'}, inplace=True)"
   ]
  },
  {
   "cell_type": "code",
   "execution_count": null,
   "metadata": {},
   "outputs": [],
   "source": [
    "db_movies = movies.merge(items_frame, left_on='MovieID', right_on='movie_id').drop(columns=['movie_id'])\n",
    "db_movies.rename(\n",
    "    columns={'MovieID':'id','Title':'title','year':'year','Genres':'genres','features':'features'}, inplace=True)"
   ]
  },
  {
   "cell_type": "code",
   "execution_count": null,
   "metadata": {},
   "outputs": [],
   "source": [
    "from elasticsearch import Elasticsearch\n",
    "from elasticsearch import helpers\n",
    "\n",
    "es_client = Elasticsearch(http_compress=True)\n",
    "\n",
    "index_name = \"movielens\"\n",
    "try:\n",
    "    es_client.indices.delete(index=index_name)\n",
    "except Exception as e:\n",
    "    print(e)"
   ]
  },
  {
   "cell_type": "code",
   "execution_count": null,
   "metadata": {},
   "outputs": [],
   "source": [
    "index_body = {\n",
    "      'settings': {\n",
    "        'number_of_shards': 1,\n",
    "        'number_of_replicas': 0,\n",
    "        'analysis': {\n",
    "          \"filter\":{  \n",
    "            \"english_stop\":{\n",
    "              \"type\":\"stop\",\n",
    "              \"stopwords\":\"_english_\"\n",
    "            },\n",
    "            \"english_stemmer\":{\n",
    "              \"type\":\"stemmer\",\n",
    "              \"language\":\"english\"\n",
    "            }\n",
    "          },  \n",
    "          \"analyzer\": {\n",
    "            \"stem_english\": { \n",
    "              \"type\":\"custom\",\n",
    "              \"tokenizer\":\"standard\",\n",
    "              \"filter\":[\n",
    "                \"lowercase\",\n",
    "                \"english_stop\",\n",
    "                \"english_stemmer\"\n",
    "              ]\n",
    "            }\n",
    "        }\n",
    "      }},\n",
    "      'mappings': {\n",
    "          'properties': {\n",
    "            'title': {\n",
    "                'type': 'text',\n",
    "                'analyzer': 'standard', \n",
    "                'fields': {\n",
    "                  'english': {\n",
    "                    'type':     'text',\n",
    "                    'analyzer': 'stem_english' \n",
    "                  }\n",
    "                }\n",
    "            },\n",
    "            'year':  {'type': 'integer'},\n",
    "            \"profile_vector\": {\n",
    "              \"type\": \"dense_vector\",\n",
    "              \"dims\": 48\n",
    "            }\n",
    "          }\n",
    "      }\n",
    "    }\n",
    "\n",
    "es_client.indices.create(index=index_name,body=index_body)"
   ]
  },
  {
   "cell_type": "code",
   "execution_count": null,
   "metadata": {},
   "outputs": [],
   "source": [
    "import pickle\n",
    "with open('es_data_48.pickle', 'rb') as f:\n",
    "    es_data = pickle.load(f)"
   ]
  },
  {
   "cell_type": "code",
   "execution_count": null,
   "metadata": {},
   "outputs": [],
   "source": [
    "helpers.bulk(es_client, es_data) "
   ]
  }
 ],
 "metadata": {
  "kernelspec": {
   "display_name": "Python 3",
   "language": "python",
   "name": "python3"
  },
  "language_info": {
   "codemirror_mode": {
    "name": "ipython",
    "version": 3
   },
   "file_extension": ".py",
   "mimetype": "text/x-python",
   "name": "python",
   "nbconvert_exporter": "python",
   "pygments_lexer": "ipython3",
   "version": "3.8.3"
  }
 },
 "nbformat": 4,
 "nbformat_minor": 4
}